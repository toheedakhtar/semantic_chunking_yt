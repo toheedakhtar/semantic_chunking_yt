{
 "cells": [
  {
   "cell_type": "markdown",
   "metadata": {},
   "source": [
    "Extracting youtube video and its audio  \n",
    "using pytube package of python."
   ]
  },
  {
   "cell_type": "markdown",
   "metadata": {},
   "source": []
  },
  {
   "cell_type": "code",
   "execution_count": 1,
   "metadata": {},
   "outputs": [
    {
     "name": "stdout",
     "output_type": "stream",
     "text": [
      "Collecting pytube\n",
      "  Downloading pytube-15.0.0-py3-none-any.whl.metadata (5.0 kB)\n",
      "Downloading pytube-15.0.0-py3-none-any.whl (57 kB)\n",
      "   ---------------------------------------- 0.0/57.6 kB ? eta -:--:--\n",
      "   ------- -------------------------------- 10.2/57.6 kB ? eta -:--:--\n",
      "   -------------- ------------------------- 20.5/57.6 kB 640.0 kB/s eta 0:00:01\n",
      "   ---------------------------- ----------- 41.0/57.6 kB 388.9 kB/s eta 0:00:01\n",
      "   ---------------------------------------- 57.6/57.6 kB 430.5 kB/s eta 0:00:00\n",
      "Installing collected packages: pytube\n",
      "Successfully installed pytube-15.0.0\n"
     ]
    }
   ],
   "source": [
    "! pip install pytube"
   ]
  },
  {
   "cell_type": "code",
   "execution_count": 13,
   "metadata": {},
   "outputs": [
    {
     "data": {
      "text/plain": [
       "[<Stream: itag=\"18\" mime_type=\"video/mp4\" res=\"360p\" fps=\"30fps\" vcodec=\"avc1.42001E\" acodec=\"mp4a.40.2\" progressive=\"True\" type=\"video\">, <Stream: itag=\"22\" mime_type=\"video/mp4\" res=\"720p\" fps=\"30fps\" vcodec=\"avc1.64001F\" acodec=\"mp4a.40.2\" progressive=\"True\" type=\"video\">]"
      ]
     },
     "execution_count": 13,
     "metadata": {},
     "output_type": "execute_result"
    }
   ],
   "source": [
    "from pytube import YouTube\n",
    "\n",
    "# url = 'https://www.youtube.com/watch?v=Sby1uJ_NFIY'\n",
    "url = 'https://www.youtube.com/watch?v=CeSAjK2CBEA&t=81s'\n",
    "\n",
    "yt_vid = YouTube(url) \n",
    "\n",
    "# progressive streams have video and audio in a single file \n",
    "# but are only for upto 720p\n",
    "yt_vid.streams.filter(progressive=True)\n"
   ]
  },
  {
   "cell_type": "code",
   "execution_count": 35,
   "metadata": {},
   "outputs": [],
   "source": [
    "def get_video(yt_url):\n",
    "    try:\n",
    "        video = YouTube(yt_url)\n",
    "        video.streams.get_by_itag(22).download(filename='video.mp4')\n",
    "        print('Video succesfully downloaded from Youtube')\n",
    "    except Exception as e:\n",
    "        print(f'Failed to download Youtube video \\nerror : {e}')\n"
   ]
  },
  {
   "cell_type": "code",
   "execution_count": 37,
   "metadata": {},
   "outputs": [
    {
     "name": "stdout",
     "output_type": "stream",
     "text": [
      "Video succesfully downloaded from Youtube\n"
     ]
    }
   ],
   "source": [
    "get_video(url)"
   ]
  },
  {
   "cell_type": "code",
   "execution_count": 15,
   "metadata": {},
   "outputs": [
    {
     "data": {
      "text/plain": [
       "'c:\\\\Users\\\\HP\\\\Programs\\\\Projects\\\\semantic_chunking_yt\\\\steve_jobs.mp4'"
      ]
     },
     "execution_count": 15,
     "metadata": {},
     "output_type": "execute_result"
    }
   ],
   "source": [
    "stream_720p = yt_vid.streams.get_by_itag(22)\n",
    "stream_720p.download(filename='steve_jobs.mp4')"
   ]
  }
 ],
 "metadata": {
  "kernelspec": {
   "display_name": "Python 3",
   "language": "python",
   "name": "python3"
  },
  "language_info": {
   "codemirror_mode": {
    "name": "ipython",
    "version": 3
   },
   "file_extension": ".py",
   "mimetype": "text/x-python",
   "name": "python",
   "nbconvert_exporter": "python",
   "pygments_lexer": "ipython3",
   "version": "3.11.7"
  }
 },
 "nbformat": 4,
 "nbformat_minor": 2
}
