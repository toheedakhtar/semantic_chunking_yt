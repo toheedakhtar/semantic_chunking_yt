{
 "cells": [
  {
   "cell_type": "markdown",
   "metadata": {},
   "source": [
    "Extracting youtube video and its audio  \n",
    "using pytube package of python."
   ]
  },
  {
   "cell_type": "code",
   "execution_count": null,
   "metadata": {},
   "outputs": [],
   "source": [
    "! pip install pytube\n",
    "! pip install moviepy"
   ]
  },
  {
   "cell_type": "code",
   "execution_count": 3,
   "metadata": {},
   "outputs": [],
   "source": [
    "! pip install --q --upgrade moviepy pytube git+https://github.com/huggingface/transformers.git accelerate datasets[audio]"
   ]
  },
  {
   "cell_type": "markdown",
   "metadata": {},
   "source": [
    "## Task 1.1 \n",
    "getting audio from video"
   ]
  },
  {
   "cell_type": "code",
   "execution_count": 1,
   "metadata": {},
   "outputs": [],
   "source": [
    "from pytube import YouTube\n",
    "from moviepy.editor import VideoFileClip\n"
   ]
  },
  {
   "cell_type": "markdown",
   "metadata": {},
   "source": [
    "getting stream value of video from youtube using pytube"
   ]
  },
  {
   "cell_type": "code",
   "execution_count": 2,
   "metadata": {},
   "outputs": [
    {
     "data": {
      "text/plain": [
       "[<Stream: itag=\"18\" mime_type=\"video/mp4\" res=\"360p\" fps=\"30fps\" vcodec=\"avc1.42001E\" acodec=\"mp4a.40.2\" progressive=\"True\" type=\"video\">, <Stream: itag=\"22\" mime_type=\"video/mp4\" res=\"720p\" fps=\"30fps\" vcodec=\"avc1.64001F\" acodec=\"mp4a.40.2\" progressive=\"True\" type=\"video\">]"
      ]
     },
     "execution_count": 2,
     "metadata": {},
     "output_type": "execute_result"
    }
   ],
   "source": [
    "url = 'https://www.youtube.com/watch?v=Sby1uJ_NFIY'\n",
    "# url = 'https://www.youtube.com/watch?v=CeSAjK2CBEA&t=81s'\n",
    "\n",
    "yt_vid = YouTube(url) \n",
    "\n",
    "# progressive streams have video and audigo in a single file \n",
    "# but are only for upto 720p\n",
    "yt_vid.streams.filter(progressive=True)\n"
   ]
  },
  {
   "cell_type": "markdown",
   "metadata": {},
   "source": [
    "download video from youtube url"
   ]
  },
  {
   "cell_type": "code",
   "execution_count": 3,
   "metadata": {},
   "outputs": [],
   "source": [
    "def get_video(yt_url):\n",
    "    try:\n",
    "        video = YouTube(yt_url)\n",
    "        video.streams.get_by_itag(22).download(filename='video.mp4')\n",
    "        print('Video succesfully downloaded from Youtube')\n",
    "    except Exception as e:\n",
    "        print(f'Failed to download Youtube video \\nerror : {e}')\n"
   ]
  },
  {
   "cell_type": "markdown",
   "metadata": {},
   "source": [
    "Extracting audio from downloaded video"
   ]
  },
  {
   "cell_type": "code",
   "execution_count": 4,
   "metadata": {},
   "outputs": [],
   "source": [
    "def audio_from_video(video_path):\n",
    "    try:\n",
    "        video = VideoFileClip(video_path)\n",
    "        audio = video.audio\n",
    "        audio.write_audiofile('audio.wav')   \n",
    "        video.close()\n",
    "        audio.close()\n",
    "    except Exception as e:\n",
    "        print(f'Failed to extract audio from video \\nerror : {e}')\n"
   ]
  },
  {
   "cell_type": "code",
   "execution_count": 5,
   "metadata": {},
   "outputs": [
    {
     "name": "stdout",
     "output_type": "stream",
     "text": [
      "Video succesfully downloaded from Youtube\n",
      "MoviePy - Writing audio in audio.wav\n"
     ]
    },
    {
     "name": "stderr",
     "output_type": "stream",
     "text": [
      "                                                                      "
     ]
    },
    {
     "name": "stdout",
     "output_type": "stream",
     "text": [
      "MoviePy - Done.\n"
     ]
    },
    {
     "name": "stderr",
     "output_type": "stream",
     "text": [
      "\r"
     ]
    }
   ],
   "source": [
    "url = 'https://www.youtube.com/watch?v=CeSAjK2CBEA&t=81s'\n",
    "video_path = './video.mp4'\n",
    "\n",
    "get_video(url)\n",
    "audio_from_video(video_path)\n"
   ]
  },
  {
   "cell_type": "markdown",
   "metadata": {},
   "source": [
    "## Task 1.2 \n",
    "Transcription of audio"
   ]
  },
  {
   "cell_type": "markdown",
   "metadata": {},
   "source": [
    "audio processing"
   ]
  },
  {
   "cell_type": "code",
   "execution_count": 6,
   "metadata": {},
   "outputs": [],
   "source": [
    "import wave"
   ]
  },
  {
   "cell_type": "code",
   "execution_count": 7,
   "metadata": {},
   "outputs": [],
   "source": [
    "obj = wave.open('./audio.wav')"
   ]
  },
  {
   "cell_type": "code",
   "execution_count": 8,
   "metadata": {},
   "outputs": [
    {
     "name": "stdout",
     "output_type": "stream",
     "text": [
      "number of channels :  2\n",
      "sample width :  2\n",
      "frame rate :  44100\n",
      "Number of frames :  7769979\n",
      "parameters _wave_params(nchannels=2, sampwidth=2, framerate=44100, nframes=7769979, comptype='NONE', compname='not compressed')\n"
     ]
    }
   ],
   "source": [
    "print(\"number of channels : \", obj.getnchannels())\n",
    "print(\"sample width : \", obj.getsampwidth())\n",
    "print(\"frame rate : \", obj.getframerate())\n",
    "print(\"Number of frames : \", obj.getnframes())\n",
    "print(\"parameters\", obj.getparams())\n",
    "\n",
    "obj.close()"
   ]
  },
  {
   "cell_type": "code",
   "execution_count": 9,
   "metadata": {},
   "outputs": [
    {
     "data": {
      "text/plain": [
       "176.19"
      ]
     },
     "execution_count": 9,
     "metadata": {},
     "output_type": "execute_result"
    }
   ],
   "source": [
    "t_audio = obj.getnframes() / obj.getframerate()\n",
    "t_audio # seconds"
   ]
  },
  {
   "cell_type": "code",
   "execution_count": null,
   "metadata": {},
   "outputs": [],
   "source": [
    "frames = obj.readframes(-1)\n",
    "print(type(frames), type(frames[0]))\n",
    "print(len(frames))"
   ]
  },
  {
   "cell_type": "markdown",
   "metadata": {},
   "source": [
    "plotting the wave"
   ]
  },
  {
   "cell_type": "code",
   "execution_count": null,
   "metadata": {},
   "outputs": [],
   "source": [
    "import matplotlib.pyplot as plt \n",
    "import numpy as np"
   ]
  },
  {
   "cell_type": "code",
   "execution_count": null,
   "metadata": {},
   "outputs": [
    {
     "data": {
      "text/plain": [
       "b''"
      ]
     },
     "execution_count": 91,
     "metadata": {},
     "output_type": "execute_result"
    }
   ],
   "source": [
    "\n",
    "samp_freq =  obj.getframerate()\n",
    "n_samples = obj.getnframes()\n",
    "signal_wave = obj.readframes(-1)\n",
    "\n",
    "obj.close()\n",
    "\n",
    "t_audio = n_samples / samp_freq\n",
    "type(signal_wave)\n",
    "signal_wave\n"
   ]
  },
  {
   "cell_type": "markdown",
   "metadata": {},
   "source": [
    "Task 1.2"
   ]
  },
  {
   "cell_type": "code",
   "execution_count": 11,
   "metadata": {},
   "outputs": [
    {
     "name": "stdout",
     "output_type": "stream",
     "text": [
      "WARNING:tensorflow:From c:\\Users\\HP\\AppData\\Local\\Programs\\Python\\Python311\\Lib\\site-packages\\keras\\src\\losses.py:2976: The name tf.losses.sparse_softmax_cross_entropy is deprecated. Please use tf.compat.v1.losses.sparse_softmax_cross_entropy instead.\n",
      "\n"
     ]
    }
   ],
   "source": [
    "# importing dependencies\n",
    "import torch\n",
    "from transformers import AutoModelForSpeechSeq2Seq, AutoProcessor, pipeline"
   ]
  },
  {
   "cell_type": "code",
   "execution_count": 12,
   "metadata": {},
   "outputs": [
    {
     "data": {
      "text/plain": [
       "'cpu'"
      ]
     },
     "execution_count": 12,
     "metadata": {},
     "output_type": "execute_result"
    }
   ],
   "source": [
    "device = \"cuda:0\" if torch.cuda.is_available() else \"cpu\"\n",
    "torch_dtype = torch.float16 if torch.cuda.is_available() else torch.float32\n",
    "\n",
    "device"
   ]
  },
  {
   "cell_type": "markdown",
   "metadata": {},
   "source": [
    "using openai whisper model (tiny)"
   ]
  },
  {
   "cell_type": "code",
   "execution_count": 13,
   "metadata": {},
   "outputs": [],
   "source": [
    "model_id = \"openai/whisper-tiny\""
   ]
  },
  {
   "cell_type": "code",
   "execution_count": 14,
   "metadata": {},
   "outputs": [
    {
     "name": "stderr",
     "output_type": "stream",
     "text": [
      "Special tokens have been added in the vocabulary, make sure the associated word embeddings are fine-tuned or trained.\n"
     ]
    }
   ],
   "source": [
    "model = AutoModelForSpeechSeq2Seq.from_pretrained(\n",
    "    model_id, torch_dtype=torch_dtype, low_cpu_mem_usage=True, use_safetensors=True\n",
    ")\n",
    "model.to(device)\n",
    "\n",
    "processor = AutoProcessor.from_pretrained(model_id)"
   ]
  },
  {
   "cell_type": "code",
   "execution_count": 17,
   "metadata": {},
   "outputs": [
    {
     "data": {
      "text/plain": [
       "<transformers.pipelines.automatic_speech_recognition.AutomaticSpeechRecognitionPipeline at 0x210d4991a10>"
      ]
     },
     "execution_count": 17,
     "metadata": {},
     "output_type": "execute_result"
    }
   ],
   "source": [
    "pipeline = pipeline(\n",
    "    \"automatic-speech-recognition\",\n",
    "    model=model,\n",
    "    tokenizer=processor.tokenizer,\n",
    "    feature_extractor=processor.feature_extractor,\n",
    "    max_new_tokens=128,\n",
    "    chunk_length_s=15,\n",
    "    batch_size=16,\n",
    "    return_timestamps=True,\n",
    "    torch_dtype=torch_dtype,\n",
    "    device=device,\n",
    ")\n",
    "\n",
    "pipeline"
   ]
  },
  {
   "cell_type": "code",
   "execution_count": 18,
   "metadata": {},
   "outputs": [],
   "source": [
    "audio = 'audio.wav'"
   ]
  },
  {
   "cell_type": "code",
   "execution_count": 19,
   "metadata": {},
   "outputs": [
    {
     "name": "stderr",
     "output_type": "stream",
     "text": [
      "Due to a bug fix in https://github.com/huggingface/transformers/pull/28687 transcription using a multilingual Whisper will default to language detection followed by transcription instead of translation to English.This might be a breaking change for your use case. If you want to instead always translate your audio to English, make sure to pass `language='en'`.\n",
      "Whisper did not predict an ending timestamp, which can happen if audio is cut off in the middle of a word. Also make sure WhisperTimeStampLogitsProcessor was used during generation.\n"
     ]
    }
   ],
   "source": [
    "text_audio = pipeline(audio)"
   ]
  },
  {
   "cell_type": "markdown",
   "metadata": {},
   "source": [
    "getting transcribed text"
   ]
  },
  {
   "cell_type": "code",
   "execution_count": 20,
   "metadata": {},
   "outputs": [
    {
     "data": {
      "text/plain": [
       "\" When you grow up you tend to get told that the world is the way it is and your life is just to live your life inside the world, try not to bash into the walls too much. But life can be much broader once you discover one simple fact, and that is everything around you that you call life was made up by people that were no smarter than you. And you can change it, you can influence it, you can build your own things that other people can use. Good evening. I'm Steve Jobs from Apple Computer, We're very glad to be here tonight. I think you always had to be a little different to buy an Apple computer. And I think you still have to think differently to buy an Apple computer. And I think the people that do buy this. still have to think differently to buy and have a computer. And I think the people that do buy them, they are the people that are not just out to get a job done, they're out to change the world. What a computer is to me is it's the most remarkable tool that we've ever come up with. And it's the equivalent of a bicycle for our minds. This is IMAG, the whole thing is translucent. You can see into it. It's so cool. Please to announce today that I'm gonna drop the interim title. Please to stand at the intersection of technology and humanity. And to make something for people that want to bring this into their lives and use it for things that make them more creative, not just make them more productive. This amazing little device holds a thousand songs because right in my pocket. An iPod, a phone, and an internet communicator. An iPod. A phone. Are you getting it? And we are falling it. iPhone. We have a chance if we stay focused and choose wisely to really continue to impact people's lives in some small way for the better. There's an old Wayne Gratsky quote that I love. I skate to where the puck is going to be, not where it has been. And we've always tried to do that at Apple, since the very, very very begin and we always will. So thank you very very much for being part of this. Thank you. you\""
      ]
     },
     "execution_count": 20,
     "metadata": {},
     "output_type": "execute_result"
    }
   ],
   "source": [
    "text_audio['text']"
   ]
  },
  {
   "cell_type": "code",
   "execution_count": 22,
   "metadata": {},
   "outputs": [],
   "source": [
    "chunks = text_audio['chunks']"
   ]
  },
  {
   "cell_type": "code",
   "execution_count": 110,
   "metadata": {},
   "outputs": [],
   "source": [
    "chunks_count = len(chunks)"
   ]
  },
  {
   "cell_type": "code",
   "execution_count": 111,
   "metadata": {},
   "outputs": [],
   "source": [
    "chunk_id = []\n",
    "timestamps = []\n",
    "texts = []\n",
    "start_time = []\n",
    "end_time = []\n",
    "\n",
    "\n",
    "for i in range(0, chunks_count):\n",
    "  chunk_id.append(i)\n",
    "  texts.append(chunks[i]['text'])\n",
    "  start_time.append(chunks[i]['timestamp'][0])\n",
    "  end_time.append(chunks[i]['timestamp'][1])\n",
    "\n"
   ]
  },
  {
   "cell_type": "code",
   "execution_count": 112,
   "metadata": {},
   "outputs": [],
   "source": [
    "chunk_length = []\n",
    "for i in range(0, chunks_count-1):\n",
    "    chunk_length.append(round(end_time[i] - start_time[i], 3))"
   ]
  },
  {
   "cell_type": "code",
   "execution_count": 113,
   "metadata": {},
   "outputs": [],
   "source": [
    "output = list(zip(chunk_id, chunk_length, texts, start_time, end_time))"
   ]
  },
  {
   "cell_type": "code",
   "execution_count": 114,
   "metadata": {},
   "outputs": [],
   "source": [
    "sample_output_list = []\n",
    "for sublist in output:\n",
    "    chunk_dict = {\n",
    "        \"chunk_id\": sublist[0],\n",
    "        \"chunk_length\": sublist[1],\n",
    "        \"text\": sublist[2],\n",
    "        \"start_time\": sublist[3],\n",
    "        \"end_time\": sublist[4]\n",
    "    }\n",
    "    sample_output_list.append(chunk_dict)"
   ]
  },
  {
   "cell_type": "code",
   "execution_count": 127,
   "metadata": {},
   "outputs": [],
   "source": [
    "file = open('trascribe.txt', \"w\")\n",
    "for output in sample_output_list:\n",
    "    file.write(str(output)+\"\\n\\n\")\n",
    "file.close()"
   ]
  },
  {
   "cell_type": "code",
   "execution_count": 129,
   "metadata": {},
   "outputs": [
    {
     "name": "stdout",
     "output_type": "stream",
     "text": [
      "{'chunk_id': 0, 'chunk_length': 14.82, 'text': ' When you grow up you tend to get told that the world is the way it is and your life is just to live your life inside the world,', 'start_time': 0.0, 'end_time': 14.82}\n",
      "\n",
      "{'chunk_id': 1, 'chunk_length': 2.7, 'text': ' try not to bash into the walls too much.', 'start_time': 14.82, 'end_time': 17.52}\n",
      "\n",
      "{'chunk_id': 2, 'chunk_length': 7.12, 'text': ' But life can be much broader once you discover one simple fact, and that is everything around you that you', 'start_time': 17.52, 'end_time': 24.64}\n",
      "\n",
      "{'chunk_id': 3, 'chunk_length': 7.1, 'text': ' call life was made up by people that were no smarter than you. And you can change it, you', 'start_time': 24.64, 'end_time': 31.74}\n",
      "\n",
      "{'chunk_id': 4, 'chunk_length': 4.26, 'text': ' can influence it, you can build your own things that other people can use.', 'start_time': 31.74, 'end_time': 36.0}\n",
      "\n",
      "{'chunk_id': 5, 'chunk_length': 5.84, 'text': \" Good evening. I'm Steve Jobs from Apple Computer, We're very glad to be here tonight.\", 'start_time': 38.16, 'end_time': 44.0}\n",
      "\n",
      "{'chunk_id': 6, 'chunk_length': 4.0, 'text': ' I think you always had to be a little different to buy an Apple computer.', 'start_time': 44.0, 'end_time': 48.0}\n",
      "\n",
      "{'chunk_id': 7, 'chunk_length': 4.0, 'text': ' And I think you still have to think differently to buy an Apple computer.', 'start_time': 48.0, 'end_time': 52.0}\n",
      "\n",
      "{'chunk_id': 8, 'chunk_length': 1.44, 'text': ' And I think the people that do buy this. still have to think differently to buy and have a computer.', 'start_time': 52.0, 'end_time': 53.44}\n",
      "\n",
      "{'chunk_id': 9, 'chunk_length': 2.32, 'text': ' And I think the people that do buy them,', 'start_time': 53.44, 'end_time': 55.76}\n",
      "\n",
      "{'chunk_id': 10, 'chunk_length': 2.08, 'text': ' they are the people that are not just out to get a job done,', 'start_time': 55.76, 'end_time': 57.84}\n",
      "\n",
      "{'chunk_id': 11, 'chunk_length': 2.84, 'text': \" they're out to change the world.\", 'start_time': 57.84, 'end_time': 60.68}\n",
      "\n",
      "{'chunk_id': 12, 'chunk_length': 5.32, 'text': \" What a computer is to me is it's the most remarkable tool that we've ever come up with.\", 'start_time': 60.68, 'end_time': 66.0}\n",
      "\n",
      "{'chunk_id': 13, 'chunk_length': 3.0, 'text': \" And it's the equivalent of a bicycle for our minds.\", 'start_time': 66.0, 'end_time': 69.0}\n",
      "\n",
      "{'chunk_id': 14, 'chunk_length': 5.64, 'text': \" This is IMAG, the whole thing is translucent. You can see into it. It's so cool. Please\", 'start_time': 69.0, 'end_time': 74.64}\n",
      "\n",
      "{'chunk_id': 15, 'chunk_length': 2.36, 'text': \" to announce today that I'm gonna drop the interim title.\", 'start_time': 74.64, 'end_time': 77.0}\n",
      "\n",
      "{'chunk_id': 16, 'chunk_length': 5.0, 'text': ' Please to stand at the intersection of technology and humanity.', 'start_time': 82.0, 'end_time': 87.0}\n",
      "\n",
      "{'chunk_id': 17, 'chunk_length': 6.36, 'text': ' And to make something for people that want to bring this into their lives', 'start_time': 87.0, 'end_time': 93.36}\n",
      "\n",
      "{'chunk_id': 18, 'chunk_length': 2.64, 'text': ' and use it for things that make them more creative,', 'start_time': 93.36, 'end_time': 96.0}\n",
      "\n",
      "{'chunk_id': 19, 'chunk_length': 2.48, 'text': ' not just make them more productive.', 'start_time': 96.0, 'end_time': 98.48}\n",
      "\n",
      "{'chunk_id': 20, 'chunk_length': 5.52, 'text': ' This amazing little device holds a thousand songs because right in my pocket.', 'start_time': 98.48, 'end_time': 104.0}\n",
      "\n",
      "{'chunk_id': 21, 'chunk_length': 6.0, 'text': ' An iPod, a phone, and an internet communicator.', 'start_time': 104.0, 'end_time': 110.0}\n",
      "\n",
      "{'chunk_id': 22, 'chunk_length': 11.12, 'text': ' An iPod. A phone. Are you getting it? And we are falling', 'start_time': 110.0, 'end_time': 121.12}\n",
      "\n",
      "{'chunk_id': 23, 'chunk_length': 2.48, 'text': ' it. iPhone.', 'start_time': 121.12, 'end_time': 123.6}\n",
      "\n",
      "{'chunk_id': 24, 'chunk_length': 15.4, 'text': \" We have a chance if we stay focused and choose wisely to really continue to impact people's lives in some small way for the better.\", 'start_time': 123.6, 'end_time': 139.0}\n",
      "\n",
      "{'chunk_id': 25, 'chunk_length': 2.2, 'text': \" There's an old Wayne Gratsky quote that I love.\", 'start_time': 141.0, 'end_time': 143.2}\n",
      "\n",
      "{'chunk_id': 26, 'chunk_length': 4.8, 'text': ' I skate to where the puck is going to be, not where it has been.', 'start_time': 143.2, 'end_time': 148.0}\n",
      "\n",
      "{'chunk_id': 27, 'chunk_length': 11.36, 'text': \" And we've always tried to do that at Apple, since the very, very very begin and we always will. So thank you very very much for being\", 'start_time': 148.0, 'end_time': 159.36}\n",
      "\n"
     ]
    }
   ],
   "source": [
    "for outputs in sample_output_list:\n",
    "    print(str(outputs) + \"\\n\")"
   ]
  }
 ],
 "metadata": {
  "kernelspec": {
   "display_name": "Python 3",
   "language": "python",
   "name": "python3"
  },
  "language_info": {
   "codemirror_mode": {
    "name": "ipython",
    "version": 3
   },
   "file_extension": ".py",
   "mimetype": "text/x-python",
   "name": "python",
   "nbconvert_exporter": "python",
   "pygments_lexer": "ipython3",
   "version": "3.11.7"
  }
 },
 "nbformat": 4,
 "nbformat_minor": 2
}
